{
 "cells": [
  {
   "cell_type": "markdown",
   "metadata": {},
   "source": [
    "# The Finite Element Method"
   ]
  },
  {
   "cell_type": "markdown",
   "metadata": {},
   "source": [
    "## An Illustrative Problem"
   ]
  },
  {
   "cell_type": "markdown",
   "metadata": {},
   "source": [
    "Consider the following problem\n",
    "\n",
    "$$\n",
    "\\frac{d^2 u}{dx^2} = f(x) = x, \\quad x \\in \\left[0, 1\\right], \\quad u(0) = u(1) = 0\n",
    "$$\n",
    "\n",
    "The solution to this boundary value problem is\n",
    "\n",
    "$$\n",
    "\\hat u(x) = \\frac{1}{6} x (1 - x^2)\n",
    "$$\n",
    "\n",
    "But let us try to approximate this using the finite element method.  To do this, consider a function $\\phi(x) \\in C^1\\left[0, 1\\right]$, which has \n",
    "\n",
    "$$\n",
    "\\phi(0) = \\phi(1) = 0\n",
    "$$\n",
    "\n",
    "Such a $\\phi$ is called a trial function.  Then consider the inner product:\n",
    "\n",
    "$$\n",
    "\\left\\langle \\phi, \\frac{d^2 u}{dx^2}\\right\\rangle := \\int_0^1 \\phi \\frac{d^2 u}{dx^2} \\, dx\n",
    "$$\n",
    "\n",
    "Integrating by parts gives\n",
    "\n",
    "$$\n",
    "\\left\\langle \\phi, \\frac{d^2 u}{dx^2}\\right\\rangle = \\left.\\phi \\frac{du}{dx}\\right|_0^1 - \n",
    "\\int_0^1 \\frac{d\\phi}{dx} \\frac{du}{dx} \\, dx\n",
    "$$\n",
    "\n",
    "The boundary condition on $\\phi$ gives\n",
    "\n",
    "$$\n",
    "\\left\\langle \\phi, \\frac{d^2 u}{dx^2}\\right\\rangle = - \n",
    "\\int_0^1 \\frac{d\\phi}{dx} \\frac{du}{dx} \\, dx = - \\left\\langle \\frac{d\\phi}{dx}, \\frac{du}{dx}\\right\\rangle\n",
    "$$\n",
    "\n",
    "Therefore \n",
    "\n",
    "$$\n",
    "\\left\\langle \\phi, \\frac{d^2 u}{dx^2}\\right\\rangle = - \\left\\langle \\frac{d\\phi}{dx}, \\frac{du}{dx}\\right\\rangle\n",
    "= \\langle \\phi, f \\rangle\n",
    "$$\n",
    "\n",
    "This is called the weak form of the problem.  Now how do we use this.  Suppose we have $\\{\\phi_j\\}_{j\\in\\mathbb{N_0}}$, such that they form a complete space on $C^1\\left[0, 1\\right]$.  Then we may write\n",
    "\n",
    "$$\n",
    "u(x) = \\sum_{j=0}^\\infty c_j \\phi_j(x)\n",
    "$$\n",
    "\n",
    "Applying this to the weak form (with $\\phi = \\phi_k$) gives\n",
    "\n",
    "$$\n",
    "-\\sum_{j=0}^\\infty c_j \\left\\langle \\frac{d\\phi_k}{dx}, \\frac{d\\phi_j}{dx} \\right\\rangle = \n",
    "\\langle \\phi_k, f\\rangle\n",
    "$$\n",
    "\n",
    "For practicle purposes, we can only compute a finite sum.  Therefore let us use $j$ from 1 to $N < \\infty$.\n",
    "Furthermore, we can define a matrix $A$ and vectors $b$ and $c$ such that \n",
    "\n",
    "$$\n",
    "A_{kj} = \\left\\langle \\frac{d\\phi_k}{dx}, \\frac{d\\phi_j}{dx}\\right\\rangle, \\quad \n",
    "b_k = \\langle \\phi_k, f\\rangle \\implies Ac = b\n",
    "$$\n",
    "\n",
    "Therefore we can solve this matrix equation for the vector $c$, get the coefficients of $\\phi_j$, and \n",
    "approximate $u$."
   ]
  },
  {
   "cell_type": "markdown",
   "metadata": {},
   "source": [
    "## An Example"
   ]
  },
  {
   "cell_type": "markdown",
   "metadata": {},
   "source": [
    "For a simple example we will use $\\phi_j$ as the hat functions.  This means we discretize $\\left[0, 1\\right]$ using nodes $0 = x_0 < x_1 < ... < x_N < x_{N+1} = 1$.  We define the hat functions $\\hat \\phi_j$ as follows:\n",
    "\n",
    "$$\n",
    "\\hat \\phi_j(x) = \\begin{cases}\n",
    "\\frac{1}{x_j - x_{j-1}} (x - x_{j-1}) & x \\in \\left[x_{j-1}, x_j\\right] \\\\\n",
    "\\frac{-1}{x_{j+1} - x_j} (x - x_{j+1}) & x \\in \\left(x_j, x_{j+1}\\right) \\\\\n",
    "0 & \\mathrm{otherwise}\n",
    "\\end{cases}\n",
    "$$\n",
    "\n",
    "Each of these is $C^1\\left[0, 1\\right]$, except at three points.  Since this is a set of measure zero,\n",
    "we can safely ignore it.  In order to satisfy the boundary conditions, we exclude $\\phi_0$ and $\\phi_{N+1}$.\n",
    "\n",
    "Next to examine is the problem of determining $A_{ij}$.  This will be a tridiagonal matrix, as the overlap \n",
    "between $\\phi_j$ and $\\phi_{j+2}$ is zero.  The values on the diagonals however, are computed via an integral.\n",
    "To evaluate this, we need an integration method which is accurate for quadratic functions.  This can be done using the quadrature:\n",
    "\n",
    "$$\n",
    "\\int_a^b f(x) \\, dx \\approx Q\\left[f\\right] := \\frac{(b - a)}{6} \\left[f(a) + 4 f\\left(\\frac{a + b}{2}\\right) + \n",
    "f(b) \\right]\n",
    "$$\n",
    "\n",
    "Using this we can build the finite element method"
   ]
  },
  {
   "cell_type": "code",
   "execution_count": 1,
   "metadata": {},
   "outputs": [],
   "source": [
    "# imports\n",
    "import numpy as np\n",
    "import matplotlib.pyplot as plt"
   ]
  },
  {
   "cell_type": "code",
   "execution_count": 20,
   "metadata": {},
   "outputs": [],
   "source": [
    "# exact solution and right hand side\n",
    "f = lambda x: x\n",
    "uhat = lambda x: 1.0/6 * x * (1 - np.power(x, 2))\n",
    "\n",
    "# quadrature\n",
    "def quaddoe2(f, a, b):\n",
    "    val = (b - a) / 6 * (f(a) + 4*f((a + b) / 2) + f(b))\n",
    "    return val"
   ]
  },
  {
   "cell_type": "code",
   "execution_count": 52,
   "metadata": {},
   "outputs": [],
   "source": [
    "# discretization, equally spaced nodes\n",
    "xspan = [0, 1]\n",
    "N = 4\n",
    "x_nodes = np.linspace(xspan[0], xspan[1], N+2)\n",
    "\n",
    "# hat functions\n",
    "def hat_fun(x, nodes, index):\n",
    "    # build the j'th hat function, j = index, vectorized\n",
    "    phi = np.zeros(np.shape(x))\n",
    "    left_indices = (x >= nodes[index-1]) * (x <= nodes[index])\n",
    "    right_indices = (x > nodes[index]) * (x < nodes[index+1])\n",
    "    phi[left_indices] = (x[left_indices] - nodes[index-1]) / (nodes[index] - nodes[index-1])\n",
    "    phi[right_indices] = -(x[right_indices] - nodes[index+1]) / (nodes[index + 1] - nodes[index])\n",
    "    return phi\n",
    "\n",
    "# hat function derivatives\n",
    "def hat_fun_der(x, nodes, index):\n",
    "    # build the j'th hat function, j = index, vectorized\n",
    "    phi = np.zeros(np.shape(x))\n",
    "    left_indices = (x >= nodes[index-1]) * (x <= nodes[index])\n",
    "    right_indices = (x > nodes[index]) * (x < nodes[index+1])\n",
    "    phi[left_indices] = 1.0 / (nodes[index] - nodes[index-1])\n",
    "    phi[right_indices] = -1.0 / (nodes[index + 1] - nodes[index])\n",
    "    return phi\n",
    "\n",
    "indices = np.arange(1, N+1)"
   ]
  },
  {
   "cell_type": "code",
   "execution_count": 72,
   "metadata": {},
   "outputs": [
    {
     "name": "stdout",
     "output_type": "stream",
     "text": [
      "[[  22. -121.    0.    0.]\n",
      " [-121.   22. -121.    0.]\n",
      " [   0. -121.   22. -121.]\n",
      " [   0.    0. -121.   22.]]\n"
     ]
    }
   ],
   "source": [
    "# build and solve linear system\n",
    "A = np.zeros([N, N])\n",
    "\n",
    "# main diagonal\n",
    "for j in indices:\n",
    "    tmp = lambda x: np.power(hat_fun_der(x, x_nodes, j), 2)\n",
    "    A[j-1, j-1] = quaddoe2(tmp, x_nodes[j-1], x_nodes[j+1])\n",
    "\n",
    "# first subdiagonal\n",
    "for j in indices[:-1]:\n",
    "    tmp = lambda x: hat_fun_der(x, x_nodes, j) * hat_fun_der(x, x_nodes, j+1)\n",
    "    val = quaddoe2(tmp, x_nodes[j-1], x_nodes[j+2])\n",
    "    A[j-1, j] = val\n",
    "    A[j, j-1] = val\n",
    "\n",
    "dx = x_nodes[1] - x_ndoes[2]\n",
    "A_exact = np.diagflat(2 / dx * np.ones(N)) - \\\n",
    "np.diagflat(1 / dx ** 2 * np.ones(N-1), 1) - \\\n",
    "np.diagflat(1 / dx ** 2 * np.ones(N-1), -1)\n",
    "\n",
    "\n",
    "b_exact = np.zeros(N)\n",
    "for j = range(N):\n",
    "    b[j] = \n",
    "b = np.zeros(N)\n",
    "for j in range(N):\n",
    "    tmp = lambda x: f(x) * hat_fun(x, x_nodes, j+1)\n",
    "    b[j] = quaddoe2(tmp, x_nodes[j], x_nodes[j+2])\n",
    "\n",
    "c = np.linalg.solve(A, b)"
   ]
  },
  {
   "cell_type": "code",
   "execution_count": 67,
   "metadata": {},
   "outputs": [
    {
     "data": {
      "image/png": "[encoded data removed]",
      "text/plain": [
       "<Figure size 432x288 with 1 Axes>"
      ]
     },
     "metadata": {
      "needs_background": "light"
     },
     "output_type": "display_data"
    }
   ],
   "source": [
    "# reconstruct u\n",
    "N_test = 10\n",
    "x_test = np.linspace(xspan[0], xspan[1], N_test)\n",
    "u = np.zeros(np.shape(x_test))\n",
    "\n",
    "for j in range(N):\n",
    "    u += c[j] * hat_fun(x_test, x_nodes, j+1)\n",
    "\n",
    "plt.figure()\n",
    "plt.plot(x_test, u)\n",
    "plt.plot(x_nodes, uhat(x_nodes), \"*\")\n",
    "plt.xlabel('x')\n",
    "plt.ylabel('u')\n",
    "plt.show()"
   ]
  },
  {
   "cell_type": "code",
   "execution_count": null,
   "metadata": {},
   "outputs": [],
   "source": []
  }
 ],
 "metadata": {
  "kernelspec": {
   "display_name": "Python 3",
   "language": "python",
   "name": "python3"
  },
  "language_info": {
   "codemirror_mode": {
    "name": "ipython",
    "version": 3
   },
   "file_extension": ".py",
   "mimetype": "text/x-python",
   "name": "python",
   "nbconvert_exporter": "python",
   "pygments_lexer": "ipython3",
   "version": "3.7.3"
  }
 },
 "nbformat": 4,
 "nbformat_minor": 2
}
