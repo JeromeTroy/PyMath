{
 "cells": [
  {
   "cell_type": "markdown",
   "metadata": {},
   "source": [
    "# Finite Differences and Bessel Functions"
   ]
  },
  {
   "cell_type": "markdown",
   "metadata": {},
   "source": [
    "Bessel's Equation is \n",
    "\n",
    "$$x^2 \\frac{d^2 u}{dx^2} + x \\frac{d u}{dx} + (x^2 - \\alpha^2) u = 0$$\n",
    "\n",
    "The solutions to this equation are the Bessel function of the first and second kind: $J_\\alpha(x)$ and $Y_\\alpha(x)$ respectively.  "
   ]
  },
  {
   "cell_type": "markdown",
   "metadata": {},
   "source": [
    "Many differential equations (esp. PDEs) involve bessel functions.  On the one hand, scipy has these loaded and ready to use.  On the other hand, often times the converge very slowly.  To that end, we will run a couple tests.\n",
    "\n",
    "1. Examine the convergence of a finite difference scheme on Bessel's equation to a true Bessel function\n",
    "2. Examine the convergence of a finite difference scheme applied to a PDE which has an analytic solution in terms of Bessel functions.\n",
    "\n",
    "In a sense this will give some intuition as to when Bessel functions are worth their trouble."
   ]
  },
  {
   "cell_type": "markdown",
   "metadata": {},
   "source": [
    "For a controlled experiment, take $\\alpha = 1$.  Next let $z = \\lambda x$.  We will solve Bessel's equation subject to the following boundary conditions:\n",
    "\n",
    "$$u(0) = 1, \\quad u(1) = 0, \\quad x \\in \\left[0, 1\\right]$$\n",
    "\n",
    "Since $u$ is bounded at the origin, the solution is $u = J_\\alpha(j_{1,1} x)$ where $j_{1, 1}$ is the first zero of $J_1(x)$"
   ]
  },
  {
   "cell_type": "code",
   "execution_count": null,
   "metadata": {},
   "outputs": [],
   "source": []
  }
 ],
 "metadata": {
  "kernelspec": {
   "display_name": "Python 3",
   "language": "python",
   "name": "python3"
  },
  "language_info": {
   "codemirror_mode": {
    "name": "ipython",
    "version": 3
   },
   "file_extension": ".py",
   "mimetype": "text/x-python",
   "name": "python",
   "nbconvert_exporter": "python",
   "pygments_lexer": "ipython3",
   "version": "3.7.3"
  }
 },
 "nbformat": 4,
 "nbformat_minor": 2
}
