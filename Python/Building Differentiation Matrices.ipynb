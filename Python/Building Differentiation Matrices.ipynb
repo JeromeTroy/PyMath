{
 "cells": [
  {
   "cell_type": "markdown",
   "metadata": {},
   "source": [
    "# Differentiation Matrices"
   ]
  },
  {
   "cell_type": "markdown",
   "metadata": {},
   "source": [
    "The problem is the following, we have an interval domain $\\Omega = \\left[a, b\\right]$, and a function \n",
    "$f:\\left[a, b\\right] \\to \\mathbb{R}$ such that $f \\in C^N\\left[a, b\\right]$ where $N$ is high enough that \n",
    "everything we wish to do is well defined.  "
   ]
  },
  {
   "cell_type": "markdown",
   "metadata": {},
   "source": [
    "The interval is discretized as follows:\n",
    "\n",
    "$$a = x_0 < x_1 < ... < x_M < x_{M+1} = b, \\quad f_j := f(x_j)$$\n",
    "\n",
    "We wish to build a matrix $D_k^{(l)} \\in \\mathbb{R}^{(M+2) \\times (M+2)}$ such that \n",
    "\n",
    "$$\\left(D_k^{(l)} f\\right)_j = \\frac{d^k f}{dx^k}(x_j) + \\lambda \\Delta x^{(l)} \\frac{d^{(l+k)}f}{dx^{(k+l)}}(x_j) + \n",
    "O(\\Delta x^{(l+1)})$$\n",
    "\n",
    "Where $\\Delta x = \\max_{i, j} |x_i - x_j|, \\quad \\forall \\quad i, j = 0, 1, ..., M + 1$, and $\\lambda = o(1)$"
   ]
  },
  {
   "cell_type": "markdown",
   "metadata": {},
   "source": [
    "After much linear algebra, I have the following result: let $\\Delta_{ij} = x_i - x_j$ so $\\Delta \\in \\mathbb{R}^{(M+2)\\times (M+2)}$.  Then define the matrix \n",
    "\n",
    "$$A_{pi}^{(j)} = \\frac{\\Delta_{ij}^p}{p!}, \\quad A \\in \\mathbb{R}^{(k+l) \\times (k+l)}$$\n",
    "\n",
    "Let $w \\in \\mathbb{R}^{k + l}$ be the weights of each of the $f_j$ values.  Then let the vector $e_n$ be defined by\n",
    "\n",
    "$$(e_n)_i = \\begin{cases} 0 & i \\neq n \\\\ 1 & i = n \\end{cases}$$\n",
    "\n",
    "The weights can then be found by solving the system\n",
    "\n",
    "$$A w = e_k$$\n",
    "\n",
    "And the derivative may be approximated via\n",
    "\n",
    "$$\\frac{d^k f}{dx^k}(x_j) \\approx w \\cdot \\hat f$$\n",
    "\n",
    "Where $\\hat f$ is the $l + k$ long vector of $\\frac{l + k - 2}{2}$ nodes before and after $x_j$.  Note if $k$ is odd\n",
    "then we use $\\frac{l + k - 1}{2}$."
   ]
  },
  {
   "cell_type": "markdown",
   "metadata": {},
   "source": [
    "We will examine this for 2 cases on the interval $\\left[0, 1\\right]$.  First will be equally spaced nodes,\n",
    "second will be chebyshev nodes. "
   ]
  },
  {
   "cell_type": "code",
   "execution_count": 1,
   "metadata": {},
   "outputs": [],
   "source": [
    "# imports\n",
    "import numpy as np\n",
    "from scipy.special import factorial\n",
    "import matplotlib.pyplot as plt"
   ]
  },
  {
   "cell_type": "code",
   "execution_count": 4,
   "metadata": {},
   "outputs": [],
   "source": [
    "# Uniform grid\n",
    "n = 10\n",
    "x = np.linspace(0, 1, n+2)\n",
    "\n",
    "# function\n",
    "f = lambda x: np.power(x, 3) + 3 *np.power(x, 2) - 4 * x + 1\n",
    "# exact derivative\n",
    "fx = lambda x: 3 *np.power(x, 2) + 6 *x - 4\n",
    "fxx = lambda x: 6 * x +6"
   ]
  },
  {
   "cell_type": "code",
   "execution_count": 3,
   "metadata": {},
   "outputs": [
    {
     "name": "stdout",
     "output_type": "stream",
     "text": [
      "0.16528925619834656\n",
      "0.165289256198347\n"
     ]
    }
   ],
   "source": [
    "# Building Δ\n",
    "Δ = np.tile(x, [len(x), 1]).T\n",
    "Δ -= Δ.T\n",
    "\n",
    "# setup\n",
    "node = 6\n",
    "k = 1\n",
    "l = 6\n",
    "\n",
    "# number of nodes left and right\n",
    "if k % 2 == 1:\n",
    "    num_nodes = int((k + l - 1) / 2)\n",
    "else:\n",
    "    num_nodes = int((k + l - 2) / 2)\n",
    "\n",
    "\n",
    "# building A\n",
    "δ = Δ[node-num_nodes:node+num_nodes+1, node]\n",
    "A = np.tile(δ, [k + l, 1])\n",
    "powers = np.tile(np.arange(0, k + l), [k + l, 1]).T\n",
    "denom = factorial(powers)\n",
    "\n",
    "A = np.divide(np.power(A, powers), denom)\n",
    "\n",
    "# build e vector\n",
    "e = np.zeros(k + l)\n",
    "e[k] = 1\n",
    "\n",
    "# compute weights \n",
    "w = np.linalg.solve(A, e)\n",
    "\n",
    "\n",
    "# testing\n",
    "true_der = fx(x[node])\n",
    "test_der = np.dot(w, f(x[node-num_nodes:node+num_nodes+1]))\n",
    "\n",
    "print(true_der)\n",
    "print(test_der)"
   ]
  },
  {
   "cell_type": "markdown",
   "metadata": {},
   "source": [
    "Now we need to skew our node choices if we are near a boundary.  We still will need the same number of nodes, we will \n",
    "just need to choose them from a different side now."
   ]
  },
  {
   "cell_type": "code",
   "execution_count": 4,
   "metadata": {},
   "outputs": [
    {
     "name": "stdout",
     "output_type": "stream",
     "text": [
      "3\n",
      "[-0.27272727 -0.18181818 -0.09090909  0.          0.09090909  0.18181818\n",
      "  0.27272727]\n",
      "[0.27272727 0.36363636 0.45454545 0.54545455 0.63636364 0.72727273\n",
      " 0.81818182]\n",
      "7\n",
      "7\n",
      "9.272727272727273\n",
      "9.272727272727241\n"
     ]
    }
   ],
   "source": [
    "# Building Δ\n",
    "Δ = np.tile(x, [len(x), 1]).T\n",
    "Δ -= Δ.T\n",
    "\n",
    "# setup\n",
    "node = 6\n",
    "k = 2\n",
    "l = 6\n",
    "\n",
    "# number of nodes left and right\n",
    "if k % 2 == 1:\n",
    "    num_nodes = int((k + l - 1) / 2)\n",
    "    mat_size = k + l\n",
    "else:\n",
    "    num_nodes = int((k + l) / 2) - 1\n",
    "    mat_size = k + l -1\n",
    "\n",
    "print(num_nodes)\n",
    "\n",
    "# building A\n",
    "\n",
    "# selecting nodes to use\n",
    "lower = node - num_nodes\n",
    "upper = node + num_nodes + 1\n",
    "\n",
    "# unshifted\n",
    "flag = False\n",
    "if lower < 0:\n",
    "    # went too far to left, shift to right\n",
    "    print(\"Shifting right\")\n",
    "    extras = abs(lower)\n",
    "    lower = 0\n",
    "    upper += extras\n",
    "    # shifted once\n",
    "    flag = True\n",
    "\n",
    "if upper >= len(x):\n",
    "    if not flag:\n",
    "        print(\"Shifting left\")\n",
    "        extras = upper - len(x) + 1\n",
    "        lower -= extras\n",
    "        upper = len(x) - 1\n",
    "        flag = True\n",
    "        if lower < 0:\n",
    "            print(\"Warning: too many nodes requested, defaulting to whole interval\")\n",
    "            lower = 0\n",
    "    else:\n",
    "        print(\"Warning: too many nodes requested, defaulting to whole interval\")\n",
    "        lower = 0\n",
    "        upper = len(x) - 1\n",
    "δ = Δ[lower:upper, node]\n",
    "print(δ)\n",
    "print(x[lower: upper])\n",
    "print(len(δ))\n",
    "print(mat_size)\n",
    "\n",
    "A = np.tile(δ, [mat_size, 1])\n",
    "powers = np.tile(np.arange(0, mat_size), [mat_size, 1]).T\n",
    "denom = factorial(powers)\n",
    "\n",
    "A = np.divide(np.power(A, powers), denom)\n",
    "\n",
    "# build e vector\n",
    "e = np.zeros(mat_size)\n",
    "e[k] = 1\n",
    "\n",
    "# compute weights \n",
    "w = np.linalg.solve(A, e)\n",
    "\n",
    "\n",
    "# testing\n",
    "true_der = fxx(x[node])\n",
    "test_der = np.dot(w, f(x[lower:upper]))\n",
    "\n",
    "print(true_der)\n",
    "print(test_der)"
   ]
  },
  {
   "cell_type": "markdown",
   "metadata": {},
   "source": [
    "Now let us put this all together into a function which builds the matrix we desire"
   ]
  },
  {
   "cell_type": "code",
   "execution_count": 5,
   "metadata": {},
   "outputs": [],
   "source": [
    "# helper function to compute weights at each node using\n",
    "# the local finite differences\n",
    "def get_weights(δ, der=1, order=2):\n",
    "    mat_size = len(δ)\n",
    "    # build linear system\n",
    "    A = np.tile(δ, [mat_size, 1])\n",
    "    powers = np.tile(np.arange(0, mat_size), [mat_size, 1]).T\n",
    "    denom = factorial(powers)\n",
    "    A = np.divide(np.power(A, powers), denom)\n",
    "    \n",
    "    # build right hand side of problem\n",
    "    e = np.zeros(mat_size)\n",
    "    e[der] = 1\n",
    "    \n",
    "    # compute weights\n",
    "    w = np.linalg.solve(A, e)\n",
    "    return w\n",
    "\n",
    "# helper function for determining which nodes to use\n",
    "def select_nodes(length, node, num_nodes, quiet=False):\n",
    "    lower = node - num_nodes\n",
    "    upper = node + num_nodes + 1\n",
    "\n",
    "    # unshifted\n",
    "    flag = False\n",
    "    if lower < 0:\n",
    "        # went too far to left, shift to right\n",
    "        if not quiet:\n",
    "            print(\"Shifting right\")\n",
    "        extras = abs(lower)\n",
    "        lower = 0\n",
    "        upper += extras\n",
    "        # shifted once\n",
    "        flag = True\n",
    "\n",
    "    if upper >= length:\n",
    "        if not flag:\n",
    "            if not quiet:\n",
    "                print(\"Shifting left\")\n",
    "            extras = upper - length + 1\n",
    "            lower -= extras\n",
    "            upper = length - 1\n",
    "            flag = True\n",
    "            if lower < 0:\n",
    "                if not quiet:\n",
    "                    print(\"Warning: too many nodes requested, defaulting to whole interval\")\n",
    "                lower = 0\n",
    "        else:\n",
    "            if not quiet:\n",
    "                print(\"Warning: too many nodes requested, defaulting to whole interval\")\n",
    "            lower = 0\n",
    "            upper = length - 1\n",
    "    return lower, upper\n",
    "\n",
    "# build a differentiation matrix\n",
    "def diffmat(x, der=1, order=2, quiet=True):\n",
    "    # matrix of finite differences\n",
    "    Δ = np.tile(x, [len(x), 1]).T\n",
    "    Δ -= Δ.T\n",
    "    \n",
    "    # allocate space\n",
    "    D = np.zeros(np.shape(Δ))\n",
    "    \n",
    "    # number of nodes necessary to meet requirements\n",
    "    if k % 2 == 1:\n",
    "        num_nodes = int((der + order - 1) / 2)\n",
    "    else:\n",
    "        num_nodes = int((der + order) / 2) - 1\n",
    "        \n",
    "    # iterate over each node\n",
    "    for node in range(len(x)):\n",
    "        # selecting nodes to use\n",
    "        lower, upper = select_nodes(len(x), node, num_nodes, quiet=quiet)\n",
    "        # relavant finite differences\n",
    "        δ = Δ[lower : upper, node]\n",
    "        \n",
    "        # get finite difference weights\n",
    "        w = get_weights(δ, der=der, order=order)\n",
    "        \n",
    "        # input weights into differentiation matrix\n",
    "        D[node, lower : upper] = w\n",
    "    \n",
    "    return D"
   ]
  },
  {
   "cell_type": "code",
   "execution_count": 5,
   "metadata": {},
   "outputs": [
    {
     "data": {
      "image/png": "[encoded data removed]",
      "text/plain": [
       "<Figure size 432x288 with 1 Axes>"
      ]
     },
     "metadata": {
      "needs_background": "light"
     },
     "output_type": "display_data"
    },
    {
     "name": "stdout",
     "output_type": "stream",
     "text": [
      "2.4424906541753444e-13\n"
     ]
    }
   ],
   "source": [
    "# testing\n",
    "D = diffmat(x, der=1, order=10)\n",
    "\n",
    "fvec = f(x)\n",
    "f_der = D @ fvec\n",
    "f_der_true = fx(x)\n",
    "\n",
    "plt.plot(x, f_der, \".\", label=\"approx\")\n",
    "plt.plot(x, f_der_true, label=\"true\")\n",
    "plt.legend()\n",
    "plt.show()\n",
    "\n",
    "print(np.max(f_der_true - f_der))"
   ]
  },
  {
   "cell_type": "code",
   "execution_count": 6,
   "metadata": {},
   "outputs": [
    {
     "data": {
      "image/png": "[encoded data removed]",
      "text/plain": [
       "<Figure size 432x288 with 1 Axes>"
      ]
     },
     "metadata": {
      "needs_background": "light"
     },
     "output_type": "display_data"
    }
   ],
   "source": [
    "# testing with Chebyshev points\n",
    "n = 100\n",
    "θ = np.linspace(0, np.pi, n)\n",
    "x = -np.cos(θ)\n",
    "D = diffmat(x, der=1, order=10)\n",
    "fvec = f(x)\n",
    "f_der = fx(x)\n",
    "\n",
    "plt.plot(x, f_der, label=\"true\")\n",
    "plt.plot(x, D @ fvec, \".\", label=\"approx\")\n",
    "plt.legend()\n",
    "plt.show()"
   ]
  },
  {
   "cell_type": "code",
   "execution_count": 1,
   "metadata": {},
   "outputs": [],
   "source": [
    "from ode import *\n",
    "import numpy as np\n",
    "import matplotlib.pyplot as plt"
   ]
  },
  {
   "cell_type": "code",
   "execution_count": 2,
   "metadata": {},
   "outputs": [
    {
     "name": "stdout",
     "output_type": "stream",
     "text": [
      "[0.  0.2 0.4 0.6 0.8 1. ]\n",
      "6\n"
     ]
    }
   ],
   "source": [
    "n = 5\n",
    "x = np.linspace(0, 1, n+1)\n",
    "print(x)\n",
    "dx = x[1] - x[0]\n",
    "print(len(x))"
   ]
  },
  {
   "cell_type": "code",
   "execution_count": 3,
   "metadata": {},
   "outputs": [
    {
     "name": "stdout",
     "output_type": "stream",
     "text": [
      "(6, 6)\n",
      "[[-1.5  2.  -0.5  0.   0.   0. ]\n",
      " [-0.5 -0.   0.5  0.   0.   0. ]\n",
      " [ 0.  -0.5  0.   0.5  0.   0. ]\n",
      " [ 0.   0.  -0.5 -0.   0.5  0. ]\n",
      " [ 0.   0.   0.  -0.5 -0.   0.5]\n",
      " [ 0.   0.   0.   0.5 -2.   1.5]]\n"
     ]
    }
   ],
   "source": [
    "Dx = diffmat(x, der=1, order=2)\n",
    "print(np.shape(Dx))\n",
    "A = dx * Dx\n",
    "print(np.round(A, decimals=2))"
   ]
  },
  {
   "cell_type": "code",
   "execution_count": null,
   "metadata": {},
   "outputs": [],
   "source": []
  }
 ],
 "metadata": {
  "kernelspec": {
   "display_name": "Python 3",
   "language": "python",
   "name": "python3"
  },
  "language_info": {
   "codemirror_mode": {
    "name": "ipython",
    "version": 3
   },
   "file_extension": ".py",
   "mimetype": "text/x-python",
   "name": "python",
   "nbconvert_exporter": "python",
   "pygments_lexer": "ipython3",
   "version": "3.7.3"
  }
 },
 "nbformat": 4,
 "nbformat_minor": 2
}
