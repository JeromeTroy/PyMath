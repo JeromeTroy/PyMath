{
 "cells": [
  {
   "cell_type": "markdown",
   "metadata": {},
   "source": [
    "# Solve Variational Problems with FEniCS"
   ]
  },
  {
   "cell_type": "markdown",
   "metadata": {},
   "source": [
    "For the sake of this problem, we will consider a cable with constant density (length) $\\rho$, of length $L$ suspended at the ends from poles of height $P$.  The distance between the poles will be $D$. From the principle of least action, it can be shown that the shape of the cable ($y(x)$) where $y$ is the height and $x$ is the distance along the base from one pole to the other, satisfies the variational problem:\n",
    "\n",
    "$$\n",
    "\\min_y \\int_{-1}^1 y \\sqrt{1 + (\\epsilon y')^2} \\, dx, \\quad \\text{subject to} \\quad \n",
    "\\int_{-1}^1 \\sqrt{1 + (\\epsilon y')^2} \\, dx = L , \\quad \\epsilon = \\frac{P}{D} \\ll 1\n",
    "$$\n",
    "\n",
    "Using Lagrange multiplier $\\lambda$, the problem may be written as \n",
    "\n",
    "$$\n",
    "\\min_{y, \\lambda} \\int_{-1}^1 (y + \\lambda) \\sqrt{1 + (\\epsilon y')^2} \\, dx - \\lambda L\n",
    "$$\n",
    "\n",
    "The solution is of course a catenary.  But let's see if we can do this numerically using FEniCS to do all the heavy lifting.\n"
   ]
  },
  {
   "cell_type": "code",
   "execution_count": 1,
   "metadata": {},
   "outputs": [],
   "source": [
    "from fenics import *\n",
    "from mshr import *\n",
    "import matplotlib.pyplot as plt"
   ]
  },
  {
   "cell_type": "code",
   "execution_count": 2,
   "metadata": {},
   "outputs": [],
   "source": [
    "# problem parameters\n",
    "eps = 0.6\n",
    "cable_length = 2.3\n",
    "pole_height_rat = 2\n",
    "\n",
    "ϵ = Constant(eps)\n",
    "L = Constant(cable_length)\n",
    "\n",
    "# build domain\n",
    "Nx = 100\n",
    "a = -1\n",
    "b = 1\n",
    "interval_length = b - a\n",
    "mesh = IntervalMesh(Nx, a, b)\n",
    "\n",
    "cell = mesh.ufl_cell()\n",
    "\n",
    "Vy = FiniteElement(\"CG\", cell, 1)\n",
    "\n",
    "# space for lagrange multiplier\n",
    "R = FiniteElement(\"R\", cell, 0)\n",
    "\n",
    "# space for lagrangian\n",
    "V = FunctionSpace(mesh, MixedElement([Vy, R]))\n",
    "\n",
    "# build the problem\n",
    "Λ = Function(V)\n",
    "y, λ = split(Λ)\n",
    "\n",
    "# unit cable length\n",
    "dsdx = sqrt(1 + (ϵ * y.dx(0))**2)\n",
    "\n",
    "# constraint\n",
    "constraint = dsdx - L / Constant(interval_length)\n",
    "\n",
    "# build lagrangian\n",
    "lagrangian = (y * dsdx - λ * constraint) * dx\n",
    "dLag = derivative(lagrangian, Λ)\n",
    "\n",
    "# boundary condition\n",
    "def bound_left(x, on_boundary):\n",
    "    return on_boundary and x < 0\n",
    "def bound_right(x, on_boundary):\n",
    "    return on_boundary and x > 0\n",
    "\n",
    "bc_left = DirichletBC(V.sub(0), Constant(1), bound_left)\n",
    "bc_right = DirichletBC(V.sub(0), Constant(pole_height_rat), bound_right)\n",
    "bcs = [bc_left, bc_right]"
   ]
  },
  {
   "cell_type": "code",
   "execution_count": 3,
   "metadata": {},
   "outputs": [
    {
     "name": "stdout",
     "output_type": "stream",
     "text": [
      "8.881784197001252e-16\n"
     ]
    },
    {
     "data": {
      "image/png": "[encoded data removed]",
      "text/plain": [
       "<Figure size 432x288 with 1 Axes>"
      ]
     },
     "metadata": {
      "needs_background": "light"
     },
     "output_type": "display_data"
    }
   ],
   "source": [
    "# initial guess\n",
    "init_amp = 1\n",
    "Λ.interpolate(Expression((\"amp * (x[0] + 0.5 * Lhat) * (x[0] - 0.5 * Lhat)\", \"0\"), \n",
    "                         degree=2, Lhat=interval_length, amp=init_amp))\n",
    "\n",
    "# solver\n",
    "problem = NonlinearVariationalProblem(dLag, Λ, bcs, derivative(dLag, Λ))\n",
    "\n",
    "solver = NonlinearVariationalSolver(problem)\n",
    "prm = solver.parameters\n",
    "prm[\"nonlinear_solver\"] = \"snes\"\n",
    "prm[\"snes_solver\"][\"line_search\"] = \"bt\"\n",
    "prm[\"snes_solver\"][\"maximum_iterations\"] = 1000\n",
    "\n",
    "# solve the problem\n",
    "solver.solve()\n",
    "\n",
    "# sanity check, expect zero\n",
    "print(assemble(dsdx * dx) - float(L))\n",
    "\n",
    "# plot results\n",
    "plot(y)\n",
    "plt.show()"
   ]
  },
  {
   "cell_type": "code",
   "execution_count": null,
   "metadata": {},
   "outputs": [],
   "source": []
  }
 ],
 "metadata": {
  "kernelspec": {
   "display_name": "Python 3",
   "language": "python",
   "name": "python3"
  },
  "language_info": {
   "codemirror_mode": {
    "name": "ipython",
    "version": 3
   },
   "file_extension": ".py",
   "mimetype": "text/x-python",
   "name": "python",
   "nbconvert_exporter": "python",
   "pygments_lexer": "ipython3",
   "version": "3.7.3"
  }
 },
 "nbformat": 4,
 "nbformat_minor": 2
}
