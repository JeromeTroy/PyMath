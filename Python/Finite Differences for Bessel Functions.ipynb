{
 "cells": [
  {
   "cell_type": "markdown",
   "metadata": {},
   "source": [
    "# Finite Differences and Bessel Functions"
   ]
  },
  {
   "cell_type": "markdown",
   "metadata": {},
   "source": [
    "Bessel's Equation is \n",
    "\n",
    "$$x^2 \\frac{d^2 u}{dx^2} + x \\frac{d u}{dx} + (x^2 - \\alpha^2) u = 0$$\n",
    "\n",
    "The solutions to this equation are the Bessel function of the first and second kind: $J_\\alpha(x)$ and $Y_\\alpha(x)$ respectively.  "
   ]
  },
  {
   "cell_type": "markdown",
   "metadata": {},
   "source": [
    "Many differential equations (esp. PDEs) involve bessel functions.  On the one hand, scipy has these loaded and ready to use.  On the other hand, often times the converge very slowly.  To that end, we will run a couple tests.\n",
    "\n",
    "1. Examine the convergence of a finite difference scheme on Bessel's equation to a true Bessel function\n",
    "2. Examine the convergence of a finite difference scheme applied to a PDE which has an analytic solution in terms of Bessel functions.\n",
    "\n",
    "In a sense this will give some intuition as to when Bessel functions are worth their trouble."
   ]
  },
  {
   "cell_type": "markdown",
   "metadata": {},
   "source": [
    "For a controlled experiment, we will look at the following problem:\n",
    "\n",
    "$$\n",
    "\\nabla^2 u = \\frac{\\partial u}{\\partial t}, \\quad x \\in \\Omega = \\left\\{x \\in \\mathbb{R}^2 : r = ||x|| \\in \\left[0, 1\\right]\\right\\}\n",
    "$$\n",
    "\n",
    "Subject to \n",
    "\n",
    "$$\n",
    "\\left.\\frac{\\partial u}{\\partial r}\\right|_{\\partial \\Omega} = 0, \\quad \n",
    "u(r, 0) = 1 - r^4\n",
    "$$"
   ]
  },
  {
   "cell_type": "markdown",
   "metadata": {},
   "source": [
    "The solution can be found first by using the symmetry of the domain.  The resulting equation is an PDE in terms of the radius $r$:\n",
    "\n",
    "$$\n",
    "\\frac{1}{r} \\frac{d}{dr} \\left(r \\frac{d u}{dr}\\right) = \\frac{\\partial u}{\\partial t}, \\quad \n",
    "\\frac{\\partial u}{\\partial r}(r=1, t) = 0, \\quad u(r, t=0) = 1 - r^4\n",
    "$$"
   ]
  },
  {
   "cell_type": "markdown",
   "metadata": {},
   "source": [
    "This can be solved via separation of variables: let $u(r, t) = R(r) T(t)$. Then\n",
    "\n",
    "$$\n",
    "\\frac{1}{rR}(r R')' = \\frac{T'}{T} = -\\lambda^2\n",
    "$$"
   ]
  },
  {
   "cell_type": "markdown",
   "metadata": {},
   "source": [
    "Therefore \n",
    "\n",
    "$$(rR')' + \\lambda^2 r R = 0, \\quad R'(1) = 0$$\n",
    "\n",
    "Which is in Sturm-Liouville form.  Multiplying by $r$ and expanding gives a scaled Bessel Equation\n",
    "\n",
    "$$\n",
    "r^2 R'' + rR' + \\lambda^2 r^2 R = 0\n",
    "$$\n",
    "\n",
    "Letting $z = \\lambda r$ gives\n",
    "\n",
    "$$z^2 R'' + zR' + z^2 R = 0, \\quad R'(\\lambda) = 0$$"
   ]
  },
  {
   "cell_type": "markdown",
   "metadata": {},
   "source": [
    "The solution to this equation is $J_0(z)$.  The condition $J_0'(\\lambda) = 0$ gives \n",
    "\n",
    "$$J_0'(\\lambda) = J_{-1}(\\lambda) = - J_1(\\lambda) = 0 \\implies \\lambda_n = j_{1, n}$$\n",
    "\n",
    "Where $j_{1, n}$ is the $n$'th zero of $J_1$."
   ]
  },
  {
   "cell_type": "markdown",
   "metadata": {},
   "source": [
    "The solution can be written as:\n",
    "\n",
    "$$u(r, t) = \\sum_{n=1}^\\infty \\beta_n J_0(j_{1,n} r) e^{-j_{1,n}^2 t}$$\n",
    "\n",
    "From Sturm-Liouville theory, then we have \n",
    "\n",
    "$$\n",
    "u(r, 0) = 1 - r^4 = \\sum_{n=0}^\\infty \\beta_n J_0(j_{1,n} r), \\implies \n",
    "\\int_0^1 (1 - r^4) J_0(j_{1, n} r) \\, r \\, dr = \\beta_n \\int_0^1 J_0^2(j_{1, n} r) \\, r \\, dr\n",
    "$$\n",
    "\n",
    "Which gives the form of $\\beta_n$."
   ]
  },
  {
   "cell_type": "markdown",
   "metadata": {},
   "source": [
    "At differing values of $t$, the exponential term allows us to use less terms and achieve similar convergences.  \n",
    "It is known that the maximum value of $J_0$ is 1.  Therefore if we truncate our sum at $n = N$, then the error\n",
    "is given by\n",
    "\n",
    "$$\\epsilon_N = \\beta_{N+1} e^{-j_{1, N+1}^2 t}$$"
   ]
  },
  {
   "cell_type": "code",
   "execution_count": 3,
   "metadata": {},
   "outputs": [],
   "source": [
    "import numpy as np\n",
    "import matplotlib.pyplot as plt\n",
    "import scipy.special as sp\n",
    "import scipy.integrate.quadrature as quad"
   ]
  },
  {
   "cell_type": "code",
   "execution_count": 10,
   "metadata": {},
   "outputs": [
    {
     "name": "stdout",
     "output_type": "stream",
     "text": [
      "0.002743774622588556\n"
     ]
    }
   ],
   "source": [
    "# zeros of bessel functions\n",
    "num_zeros = 500\n",
    "zeros = sp.jn_zeros(1, num_zeros)\n",
    "\n",
    "f = lambda r: 1 - np.power(r, 4)\n",
    "\n",
    "# compute βn\n",
    "β = np.zeros(len(zeros))\n",
    "for i in range(len(zeros)):\n",
    "    jn = zeros[i]\n",
    "    numf = lambda r: f(r) * sp.jv(0, jn * r) * r\n",
    "    num, nerr = quad(numf, 0, 1)\n",
    "    denf = lambda r: np.power(sp.jv(0, jn * r), 2) * r\n",
    "    den, denerr = quad(denf, 0, 1)\n",
    "    β[i] = num / den\n",
    "    \n",
    "print(np.min(np.abs(β)))\n"
   ]
  },
  {
   "cell_type": "code",
   "execution_count": null,
   "metadata": {},
   "outputs": [],
   "source": []
  }
 ],
 "metadata": {
  "kernelspec": {
   "display_name": "Python 3",
   "language": "python",
   "name": "python3"
  },
  "language_info": {
   "codemirror_mode": {
    "name": "ipython",
    "version": 3
   },
   "file_extension": ".py",
   "mimetype": "text/x-python",
   "name": "python",
   "nbconvert_exporter": "python",
   "pygments_lexer": "ipython3",
   "version": "3.7.3"
  }
 },
 "nbformat": 4,
 "nbformat_minor": 2
}
